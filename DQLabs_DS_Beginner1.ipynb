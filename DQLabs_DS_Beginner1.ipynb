{
 "cells": [
  {
   "cell_type": "markdown",
   "metadata": {},
   "source": [
    "### Sebuah Awal"
   ]
  },
  {
   "cell_type": "markdown",
   "metadata": {},
   "source": [
    "#### Pernyataan"
   ]
  },
  {
   "cell_type": "code",
   "execution_count": 4,
   "metadata": {},
   "outputs": [
    {
     "name": "stdout",
     "output_type": "stream",
     "text": [
      "Hello World!\n"
     ]
    }
   ],
   "source": [
    "print(\"Hello World!\")"
   ]
  },
  {
   "cell_type": "code",
   "execution_count": 5,
   "metadata": {},
   "outputs": [
    {
     "name": "stdout",
     "output_type": "stream",
     "text": [
      "Halo Dunia\n",
      "Riset Bahasa Python\n"
     ]
    }
   ],
   "source": [
    "print(\"Halo Dunia\")\n",
    "print(\"Riset Bahasa Python\")"
   ]
  },
  {
   "cell_type": "code",
   "execution_count": 6,
   "metadata": {},
   "outputs": [
    {
     "name": "stdout",
     "output_type": "stream",
     "text": [
      "Belajar Python Menyenangkan\n",
      "Halo Dunia\n",
      "Hello World!\n",
      "15\n"
     ]
    }
   ],
   "source": [
    "# Statement\n",
    "print(\"Belajar Python Menyenangkan\") \n",
    "print(\"Halo Dunia\")\n",
    "print(\"Hello World!\")\n",
    "# Variables & Literals\n",
    "bilangan1 = 5\n",
    "bilangan2 = 10\n",
    "kalimat1 = \"Belajar Bahasa Python\"\n",
    "# Operators\n",
    "print(bilangan1 + bilangan2)"
   ]
  },
  {
   "cell_type": "markdown",
   "metadata": {},
   "source": [
    "#### Variabel"
   ]
  },
  {
   "cell_type": "code",
   "execution_count": 7,
   "metadata": {},
   "outputs": [
    {
     "name": "stdout",
     "output_type": "stream",
     "text": [
      "10\n"
     ]
    }
   ],
   "source": [
    "bilangan1 = 20\n",
    "bilangan2 = 10\n",
    "print(bilangan1 - bilangan2)"
   ]
  },
  {
   "cell_type": "code",
   "execution_count": 8,
   "metadata": {},
   "outputs": [
    {
     "name": "stdout",
     "output_type": "stream",
     "text": [
      "19800.0\n"
     ]
    }
   ],
   "source": [
    "harga_asli = 20000\n",
    "potongan = 2000\n",
    "harga_setelah_potongan = harga_asli - potongan\n",
    "harga_final = harga_setelah_potongan * 1.1\n",
    "print(harga_final)"
   ]
  },
  {
   "cell_type": "markdown",
   "metadata": {},
   "source": [
    "#### Datatypes"
   ]
  },
  {
   "cell_type": "code",
   "execution_count": 9,
   "metadata": {},
   "outputs": [
    {
     "name": "stdout",
     "output_type": "stream",
     "text": [
      "1\n",
      "4.0\n",
      "empat\n"
     ]
    }
   ],
   "source": [
    "## List\n",
    "contoh_list = [1,'dua', 3, 4.0, 5]\n",
    "print(contoh_list[0])\n",
    "print(contoh_list[3])\n",
    "contoh_list = [1, 'dua', 3, 4.0, 5]\n",
    "contoh_list[3] = 'empat'\n",
    "print(contoh_list[3])"
   ]
  },
  {
   "cell_type": "code",
   "execution_count": 10,
   "metadata": {},
   "outputs": [
    {
     "name": "stdout",
     "output_type": "stream",
     "text": [
      "January\n"
     ]
    },
    {
     "ename": "TypeError",
     "evalue": "'tuple' object does not support item assignment",
     "output_type": "error",
     "traceback": [
      "\u001b[1;31m---------------------------------------------------------------------------\u001b[0m",
      "\u001b[1;31mTypeError\u001b[0m                                 Traceback (most recent call last)",
      "\u001b[1;32m<ipython-input-10-56d0e595cd6d>\u001b[0m in \u001b[0;36m<module>\u001b[1;34m\u001b[0m\n\u001b[0;32m      3\u001b[0m \u001b[0mprint\u001b[0m\u001b[1;33m(\u001b[0m\u001b[0mcontoh_tuple\u001b[0m\u001b[1;33m[\u001b[0m\u001b[1;36m0\u001b[0m\u001b[1;33m]\u001b[0m\u001b[1;33m)\u001b[0m\u001b[1;33m\u001b[0m\u001b[1;33m\u001b[0m\u001b[0m\n\u001b[0;32m      4\u001b[0m \u001b[0mcontoh_tuple\u001b[0m \u001b[1;33m=\u001b[0m \u001b[1;34m'Januari'\u001b[0m\u001b[1;33m,\u001b[0m \u001b[1;34m'Februari'\u001b[0m\u001b[1;33m,\u001b[0m \u001b[1;34m'Maret'\u001b[0m\u001b[1;33m,\u001b[0m \u001b[1;34m'April'\u001b[0m\u001b[1;33m\u001b[0m\u001b[1;33m\u001b[0m\u001b[0m\n\u001b[1;32m----> 5\u001b[1;33m \u001b[0mcontoh_tuple\u001b[0m\u001b[1;33m[\u001b[0m\u001b[1;36m0\u001b[0m\u001b[1;33m]\u001b[0m \u001b[1;33m=\u001b[0m \u001b[1;34m\"Desember\"\u001b[0m\u001b[1;33m\u001b[0m\u001b[1;33m\u001b[0m\u001b[0m\n\u001b[0m",
      "\u001b[1;31mTypeError\u001b[0m: 'tuple' object does not support item assignment"
     ]
    }
   ],
   "source": [
    "## Tuple\n",
    "contoh_tuple = 'January', 'Februari', 'Maret', 'April'\n",
    "print(contoh_tuple[0])\n",
    "contoh_tuple = 'Januari', 'Februari', 'Maret', 'April'\n",
    "contoh_tuple[0] = \"Desember\""
   ]
  },
  {
   "cell_type": "code",
   "execution_count": 12,
   "metadata": {},
   "outputs": [
    {
     "name": "stdout",
     "output_type": "stream",
     "text": [
      "['Dewi', 'Budi', 'Cici', 'Linda', 'Cici']\n",
      "{'Budi', 'Dewi', 'Cici', 'Linda'}\n",
      "{'Budi', 'Dewi', 'Cici', 'Linda'}\n"
     ]
    }
   ],
   "source": [
    "## List\n",
    "## Tuple\n",
    "## Set\n",
    "## Frozenset\n",
    "contoh_list = ['Dewi','Budi','Cici','Linda','Cici']\n",
    "print(contoh_list)\n",
    "contoh_set = {'Dewi','Budi','Cici','Linda','Cici'}\n",
    "print(contoh_set)\n",
    "contoh_frozen_set = ({'Dewi','Budi','Cici','Linda','Cici'})\n",
    "print(contoh_frozen_set)"
   ]
  },
  {
   "cell_type": "code",
   "execution_count": 1,
   "metadata": {},
   "outputs": [
    {
     "name": "stdout",
     "output_type": "stream",
     "text": [
      "John Doe\n",
      "Programmer\n",
      "365200.0\n"
     ]
    }
   ],
   "source": [
    "## Mapping Type / Dictionary\n",
    "person = {'nama' : 'John Doe', 'pekerjaan':'Programmer'}\n",
    "print(person['nama'])\n",
    "print(person['pekerjaan'])\n",
    "\n",
    "# Data yang dinyatakan ke dalam dictionary\n",
    "sepatu = {\"nama\": \"Sepatu Niko\", \"harga\": 150000, \"diskon\": 30000} \n",
    "baju = {\"nama\": \"Baju Unikloh\", \"harga\": 80000, \"diskon\": 8000} \n",
    "celana = {\"nama\": \"Celana Lepis\", \"harga\": 200000, \"diskon\": 60000}\n",
    "# Hitunglah harga masing-masing data setelah dikurangi diskon\n",
    "harga_sepatu = sepatu[\"harga\"] - sepatu[\"diskon\"] \n",
    "harga_baju = baju[\"harga\"] - baju[\"diskon\"]\n",
    "harga_celana = celana[\"harga\"] - celana[\"diskon\"]\n",
    "# Hitung harga total\n",
    "total_harga = harga_sepatu + harga_baju + harga_celana\n",
    "# Hitung harga kena pajak\n",
    "total_pajak = total_harga * 0.1\n",
    "# Cetak total_harga + total_pajak\n",
    "print(total_harga + total_pajak)\n"
   ]
  },
  {
   "cell_type": "raw",
   "metadata": {},
   "source": [
    "# Arithmetic operators (matematika)\n",
    " Penambahan (+), 3 + 2 akan menghasilkan output: 5\n",
    "Pengurangan (-), 4 - 2 akan menghasilkan output: 2\n",
    "Perkalian (*), 3 * 2 akan menghasilkan output: 6\n",
    "Pembagian (/), 3 / 2 akan menghasilkan output: 1.5\n",
    "Modulo atau sisa bagi (%),\n",
    "3 % 2 akan menghasilkan output: 1\n",
    "dikarenakan 3 tidak habis dibagi 2 dan menyisakan 1\n",
    "8 % 2 akan menghasilkan output: 0\n",
    "dikarenakan 8 habis dibagi 2\n",
    "Pangkat (**),3 ** 2 akan menghasilkan output: 9\n",
    "Pembagian dengan pembulatan ke bawah (//),\n",
    "3 // 2 akan menghasilkan output: 1\n",
    "dikarenakan 1.5 akan menjadi 1 saat dibulatkan ke bawah\n"
   ]
  },
  {
   "cell_type": "raw",
   "metadata": {},
   "source": [
    "#Assigntment Operator (Mendeklarasikan Nilai langsung ke variabel)\n",
    "Penambahan (+=),\n",
    "x = 3\n",
    "x += 2 ekivalen dengan x = x + 2\n",
    "akan mengubah nilai x menjadi 5\n",
    "Pengurangan (-=),\n",
    "x = 3\n",
    "x -= 2 ekivalen dengan x = x - 2\n",
    "akan mengubah nilai x menjadi 1\n",
    "Perkalian (*=),\n",
    "x = 3\n",
    "x *= 2 ekivalen dengan x = x * 2\n",
    "akan mengubah nilai x menjadi 6\n",
    "Pembagian (/=),\n",
    "x = 3\n",
    "x /= 2 ekivalen dengan x = x / 2\n",
    "akan mengubah nilai x menjadi 1.5\n",
    "Modulo/Sisa bagi (%=),\n",
    "x = 3\n",
    "x %= 2 ekivalen dengan x = x % 2\n",
    "akan mengubah nilai x menjadi 1\n",
    "Pangkat (**=),\n",
    "x = 3\n",
    "x **= 2 ekivalen dengan x = x ** 2\n",
    "akan mengubah nilai x menjadi 9\n",
    "Pembagian dibulatkan kebawah (//=),\n",
    "x = 3\n",
    "x //= 2 sama dengan x = x // 2\n",
    "akan mengubah nilai x menjadi 1"
   ]
  },
  {
   "cell_type": "raw",
   "metadata": {},
   "source": [
    "# Comparison Operator (Membandingkan dua buah nilai)\n",
    "Persamaan (==),\n",
    "33 == 33 akan menghasilkan output: True dikarenakan benar 33 sama dengan 33\n",
    "34 == 33 akan menghasilkan output: False dikarenakan 34 tidak sama dengan 33\n",
    "Pertidaksamaan (!=),\n",
    "34 != 33 akan menghasilkan output: True dikarenakan benar bahwa 34 tidak sama dengan 33\n",
    "33 != 33 akan menghasilkan output: False dikarenakan 33 sama dengan 33\n",
    "Lebih besar dari (>),\n",
    "34 > 33 akan menghasilkan output: True dikarenakan 34 lebih besar dari 33\n",
    "33 > 34 akan menghasilkan output False dikarenakan tidak benar 33 lebih besar dari 34\n",
    "Lebih kecil dari (<),\n",
    "33 < 34 akan menghasilkan output True dikarenakan benar 33 lebih kecil dari 34\n",
    "34 < 33 akan menghasilkan output: False dikarenakan tidak benar 34 lebih kecil dari 33\n",
    "Lebih besar atau sama dengan (>=),\n",
    "34 >= 33 akan menghasilkan output True dikarenakan 34 lebih besar dari 33\n",
    "34 >= 34 akan menghasilkan output True dikarenakan 34 sama dengan 34\n",
    "33 >= 34 akan menghasilkan output False dikarenakan 33 tidak lebih besar dari 34 dan tidak sama dengan 34\n",
    "Lebih kecil atau sama dengan (<=),\n",
    "33 <= 34 akan menghasilkan output True dikarenakan 33 lebih kecil dari 34\n",
    "33 <= 33 akan menghasilkan output True dikarenakan 34 sama dengan 33\n",
    "34 <= 33 akan menghasilkan output False dikarenakan 34 tidak lebih kecil dari 33 dan tidak sama dengan 34"
   ]
  },
  {
   "cell_type": "raw",
   "metadata": {},
   "source": [
    "#Logical Operators\n",
    "Operator logical digunakan untuk menggabungkan beberapa nilai kebenaran atas suatu statemen logika\n",
    "dan - menerima dua nilai kebenaran dan mengembalikan nilai benar jika keduanya benar (and)\n",
    "x = 5\n",
    "x >= 1 and x <= 10\n",
    "akan mengembalikan nilai True\n",
    "x = 5\n",
    "x >= 1 and x >= 4\n",
    "akan mengembalikan nilai False\n",
    "atau - menerima dua nilai kebenaran dan mengembalikan nilai benar jika salah satu benar (or)\n",
    "x = 3\n",
    "x >= 1 or x <= 2\n",
    "akan mengembalikan nilai True dikarenakan statemen logika pertama terpenuhi\n",
    "x = 3\n",
    "x >= 5 or x <= 0\n",
    "akan mengembalikan nilai False dikarenakan kedua statemen logika tidak terpenuhi (bernilai False)\n",
    "negasi - menerima sebuah nilai kebenaran dan mengembalikan komplemennya (not)\n",
    "x = 7\n",
    "not(x == 7) akan mengembalikan nilai False\n",
    "not(x >= 10) akan mengembalikan nilai True"
   ]
  },
  {
   "cell_type": "raw",
   "metadata": {},
   "source": [
    "#Identity Operators\n",
    "Operator identitas dapat digunakan untuk membandingkan identitas dari dua buah variabel.\n",
    "is, Menerima dua buah objek dan mengembalikan nilai True ketika keduanya merujuk pada objek yang sama dan False dalam kondisi lainnya\n",
    "x = [\"Ani\", \"Budi\"]\n",
    "y = [\"Ani\", \"Budi\"]\n",
    "a = x\n",
    "print(a is x) akan menampilkan nilai True dikarenakan a dan x merujuk ke objek yang sama\n",
    "print(a is y) akan menampilkan nilai False dikarenakan a dan y tidak merujuk ke objek yang sama meskipun isi di dalam keduanya sama.\n",
    "is not, Menerima dua buah objek dan mengembalikan nilai True ketika keduanya merujuk pada objek yang berbeda dan False jika sama\n",
    "x = [\"Ani\", \"Budi\"]\n",
    "y = [\"Ani\", \"Budi\"]\n",
    "a = x\n",
    "print(a is not x) akan menampilkan nilai False dikarenakan a dan x merujuk ke objek yang sama\n",
    "print(a is not y) akan menampilkan nilai   True dikarenakan a dan y tidak merujuk ke objek yang sama"
   ]
  },
  {
   "cell_type": "markdown",
   "metadata": {},
   "source": [
    "### If Statement Condition"
   ]
  },
  {
   "cell_type": "code",
   "execution_count": 1,
   "metadata": {},
   "outputs": [
    {
     "name": "stdout",
     "output_type": "stream",
     "text": [
      "x habis dibagi dua\n",
      "x tidak habis dibagi dua, tiga ataupun lima\n"
     ]
    }
   ],
   "source": [
    "x = 4\n",
    "if x % 2 == 0: # jika sisa bagi x dengan 2 sama dengan 0\n",
    "    print(\"x habis dibagi dua\") # statemen aksi lebih menjorok ke dalam\n",
    "# Statement if ... elif ... else\n",
    "x = 7\n",
    "if x % 2 == 0: # jika sisa bagi x dengan 2 sama dengan 0\n",
    "    print(\"x habis dibagi dua\")\n",
    "elif x % 3 == 0: # jika sisa bagi x dengan 3 sama dengan 0\n",
    "    print(\"x habis dibagi tiga\")\n",
    "elif x % 5 == 0: # jika sisa bagi x dengan 5 sama dengan 0\n",
    "    print(\" x habis dibagi lima\")\n",
    "else:\n",
    "    print(\"x tidak habis dibagi dua, tiga ataupun lima\")"
   ]
  },
  {
   "cell_type": "markdown",
   "metadata": {},
   "source": [
    "### Python Primitive Loop Control"
   ]
  },
  {
   "cell_type": "code",
   "execution_count": 3,
   "metadata": {},
   "outputs": [
    {
     "name": "stdout",
     "output_type": "stream",
     "text": [
      "750000\n"
     ]
    }
   ],
   "source": [
    "tagihan = [50000, 75000, -150000, 125000, 300000, -50000, 200000]\n",
    "i = 0\n",
    "jumlah_tagihan = len(tagihan)\n",
    "total_tagihan = 0\n",
    "while i < jumlah_tagihan:\n",
    "    # jika terdapat tagihan ke-i yang bernilai minus (di bawah nol),\n",
    "    # abaikan tagihan ke-i dan lanjutkan ke tagihan berikutnya\n",
    "    if tagihan[i] < 0:\n",
    "        i += 1\n",
    "        continue\n",
    "    total_tagihan += tagihan[i]\n",
    "    i += 1\n",
    "print(total_tagihan)"
   ]
  },
  {
   "cell_type": "code",
   "execution_count": 4,
   "metadata": {},
   "outputs": [
    {
     "name": "stdout",
     "output_type": "stream",
     "text": [
      "550000\n"
     ]
    }
   ],
   "source": [
    "# Python for loops\n",
    "list_tagihan = [50000, 75000, -150000, 125000, 300000, -50000, 200000]\n",
    "total_tagihan = 0\n",
    "for tagihan in list_tagihan: # untuk setiap tagihan dalam list_tagihan\n",
    "    total_tagihan += tagihan # tambahkan tagihan ke total_tagihan\n",
    "print(total_tagihan)"
   ]
  },
  {
   "cell_type": "code",
   "execution_count": null,
   "metadata": {},
   "outputs": [],
   "source": []
  }
 ],
 "metadata": {
  "kernelspec": {
   "display_name": "Python 3",
   "language": "python",
   "name": "python3"
  },
  "language_info": {
   "codemirror_mode": {
    "name": "ipython",
    "version": 3
   },
   "file_extension": ".py",
   "mimetype": "text/x-python",
   "name": "python",
   "nbconvert_exporter": "python",
   "pygments_lexer": "ipython3",
   "version": "3.8.3"
  }
 },
 "nbformat": 4,
 "nbformat_minor": 4
}
